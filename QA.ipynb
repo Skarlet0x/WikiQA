{
  "nbformat": 4,
  "nbformat_minor": 0,
  "metadata": {
    "colab": {
      "name": "QA.ipynb",
      "provenance": [],
      "collapsed_sections": [],
      "authorship_tag": "ABX9TyNtIoBdVVVeDRWHpH4cmG6+"
    },
    "kernelspec": {
      "name": "python3",
      "display_name": "Python 3"
    },
    "language_info": {
      "name": "python"
    }
  },
  "cells": [
    {
      "cell_type": "markdown",
      "source": [
        "## IMPORTS & INSTALLATION"
      ],
      "metadata": {
        "id": "RROmp2FhfhUc"
      }
    },
    {
      "cell_type": "code",
      "source": [
        "# install haystack directly\n",
        "!pip install git+https://github.com/deepset-ai/haystack.git"
      ],
      "metadata": {
        "id": "K57pEBlVgVEJ"
      },
      "execution_count": null,
      "outputs": []
    },
    {
      "cell_type": "code",
      "source": [
        "import requests\n",
        "\n",
        "from haystack.nodes import FARMReader, TransformersReader\n",
        "from haystack.utils import print_answers"
      ],
      "metadata": {
        "id": "cSjLcgUjfgy7"
      },
      "execution_count": 53,
      "outputs": []
    },
    {
      "cell_type": "code",
      "source": [
        "# initialization for colab\n",
        "! wget https://artifacts.elastic.co/downloads/elasticsearch/elasticsearch-7.6.2-linux-x86_64.tar.gz -q\n",
        "! tar -xzf elasticsearch-7.6.2-linux-x86_64.tar.gz\n",
        "! chown -R daemon:daemon elasticsearch-7.6.2\n",
        "\n",
        "import os\n",
        "from subprocess import Popen, PIPE, STDOUT\n",
        "es_server = Popen(['elasticsearch-7.6.2/bin/elasticsearch'],\n",
        "                   stdout=PIPE, stderr=STDOUT,\n",
        "                   preexec_fn=lambda: os.setuid(1)\n",
        "                  )\n",
        "# wait - avoids errors\n",
        "! sleep 30"
      ],
      "metadata": {
        "id": "ZrkKwjgKhhYQ"
      },
      "execution_count": 2,
      "outputs": []
    },
    {
      "cell_type": "code",
      "source": [
        "# check if the host is running\n",
        "requests.get(\"http://localhost:9200/_cluster/health\").json()"
      ],
      "metadata": {
        "id": "TYmq7LJQkeXG"
      },
      "execution_count": null,
      "outputs": []
    },
    {
      "cell_type": "markdown",
      "source": [
        "## WIKI API & DATA RETRIEVAL"
      ],
      "metadata": {
        "id": "nzqhyW91mvRJ"
      }
    },
    {
      "cell_type": "code",
      "execution_count": null,
      "metadata": {
        "id": "RgW1QoEJmrkC"
      },
      "outputs": [],
      "source": [
        "# https://pypi.org/project/Wikipedia-API/\n",
        "# https://www.thepythoncode.com/article/access-wikipedia-python"
      ]
    },
    {
      "cell_type": "markdown",
      "source": [
        "## DATA PREPARATION"
      ],
      "metadata": {
        "id": "HEGOF1gXm448"
      }
    },
    {
      "cell_type": "code",
      "source": [
        "from haystack.document_stores import ElasticsearchDocumentStore\n",
        "\n",
        "document_store = ElasticsearchDocumentStore(host=\"localhost\", \n",
        "                                            username=\"\", \n",
        "                                            password=\"\", \n",
        "                                            index=\"wiki\")"
      ],
      "metadata": {
        "id": "2T3dUaxqiCxv"
      },
      "execution_count": 6,
      "outputs": []
    },
    {
      "cell_type": "code",
      "source": [
        "wiki_doc = \"Hello my name is Petra Bajac\\nI like cats\"\n",
        "wiki_doc = wiki_doc.split(\"\\n\")"
      ],
      "metadata": {
        "id": "-lJXt0xJn3mt"
      },
      "execution_count": 94,
      "outputs": []
    },
    {
      "cell_type": "code",
      "source": [
        "wiki_doc"
      ],
      "metadata": {
        "colab": {
          "base_uri": "https://localhost:8080/"
        },
        "id": "aCCkcyospUuE",
        "outputId": "7317234c-b2f2-4253-e751-a704428a9415"
      },
      "execution_count": 95,
      "outputs": [
        {
          "output_type": "execute_result",
          "data": {
            "text/plain": [
              "['Hello my name is Petra Bajac', 'I like cats']"
            ]
          },
          "metadata": {},
          "execution_count": 95
        }
      ]
    },
    {
      "cell_type": "code",
      "source": [
        "dics = [{\"content\": text} for text in wiki_doc]"
      ],
      "metadata": {
        "id": "kbAbdJ25mBQV"
      },
      "execution_count": 100,
      "outputs": []
    },
    {
      "cell_type": "code",
      "source": [
        "dics[:2]"
      ],
      "metadata": {
        "colab": {
          "base_uri": "https://localhost:8080/"
        },
        "id": "L-T13GgCmeUl",
        "outputId": "4cfc48d3-561b-4b88-edb1-f7ed7fc8d6af"
      },
      "execution_count": 102,
      "outputs": [
        {
          "output_type": "execute_result",
          "data": {
            "text/plain": [
              "[{'content': 'Hello my name is Petra Bajac'}, {'content': 'I like cats'}]"
            ]
          },
          "metadata": {},
          "execution_count": 102
        }
      ]
    },
    {
      "cell_type": "code",
      "source": [
        "len(dics)"
      ],
      "metadata": {
        "colab": {
          "base_uri": "https://localhost:8080/"
        },
        "id": "iMCwCJmxv474",
        "outputId": "ea7407b4-cd6e-412c-f42d-20ed8dea2b88"
      },
      "execution_count": 103,
      "outputs": [
        {
          "output_type": "execute_result",
          "data": {
            "text/plain": [
              "2"
            ]
          },
          "metadata": {},
          "execution_count": 103
        }
      ]
    },
    {
      "cell_type": "code",
      "source": [
        "# upload the data to ElasticSearch\n",
        "document_store.write_documents(dics)"
      ],
      "metadata": {
        "id": "jn3gsUZDmf2d"
      },
      "execution_count": 104,
      "outputs": []
    },
    {
      "cell_type": "code",
      "source": [
        "# check if successful\n",
        "requests.get(\"http://localhost:9200/wiki/_count\").json()"
      ],
      "metadata": {
        "id": "t4KwbFXtmll9"
      },
      "execution_count": null,
      "outputs": []
    },
    {
      "cell_type": "markdown",
      "source": [
        "## ELASTIC SEARCH"
      ],
      "metadata": {
        "id": "URm8pPd6m-ah"
      }
    },
    {
      "cell_type": "code",
      "source": [
        "from haystack.nodes import ElasticsearchRetriever\n",
        "\n",
        "retriever = ElasticsearchRetriever(document_store)"
      ],
      "metadata": {
        "id": "6wcUZsINmBwS"
      },
      "execution_count": 106,
      "outputs": []
    },
    {
      "cell_type": "code",
      "source": [
        "reader = FARMReader(model_name_or_path=\"deepset/bert-base-cased-squad2\")"
      ],
      "metadata": {
        "id": "MfuBepoimwxl"
      },
      "execution_count": null,
      "outputs": []
    },
    {
      "cell_type": "code",
      "source": [
        "from haystack.pipelines import ExtractiveQAPipeline\n",
        "\n",
        "QA = ExtractiveQAPipeline(reader, retriever)"
      ],
      "metadata": {
        "id": "zGSIzFoNnckV"
      },
      "execution_count": 110,
      "outputs": []
    },
    {
      "cell_type": "markdown",
      "source": [
        "## ASKING QUESTIONS"
      ],
      "metadata": {
        "id": "nilVJgMzm_v7"
      }
    },
    {
      "cell_type": "code",
      "source": [
        "def get_ans(question):\n",
        "  es_response = QA.run(question)\n",
        "  ans = es_response[\"answers\"][0].answer\n",
        "  \n",
        "  print(f\"\\n\\n\\n{ans}\")"
      ],
      "metadata": {
        "id": "uD8OnCFHwkZn"
      },
      "execution_count": 111,
      "outputs": []
    },
    {
      "cell_type": "code",
      "source": [
        "get_ans(\"What is your name?\")"
      ],
      "metadata": {
        "colab": {
          "base_uri": "https://localhost:8080/"
        },
        "id": "RTnDm7fvwuTe",
        "outputId": "c5668a7d-83d0-4362-9441-86be5ab28c1d"
      },
      "execution_count": 112,
      "outputs": [
        {
          "output_type": "stream",
          "name": "stderr",
          "text": [
            "Inferencing Samples:   0%|          | 0/1 [00:00<?, ? Batches/s]/usr/local/lib/python3.7/dist-packages/haystack/modeling/model/prediction_head.py:485: UserWarning: __floordiv__ is deprecated, and its behavior will change in a future version of pytorch. It currently rounds toward 0 (like the 'trunc' function NOT 'floor'). This results in incorrect rounding for negative values. To keep the current behavior, use torch.div(a, b, rounding_mode='trunc'), or for actual floor division, use torch.div(a, b, rounding_mode='floor').\n",
            "  start_indices = flat_sorted_indices // max_seq_len\n",
            "Inferencing Samples: 100%|██████████| 1/1 [00:00<00:00,  1.13 Batches/s]"
          ]
        },
        {
          "output_type": "stream",
          "name": "stdout",
          "text": [
            "\n",
            "\n",
            "\n",
            "Petra Bajac\n"
          ]
        },
        {
          "output_type": "stream",
          "name": "stderr",
          "text": [
            "\n"
          ]
        }
      ]
    }
  ]
}